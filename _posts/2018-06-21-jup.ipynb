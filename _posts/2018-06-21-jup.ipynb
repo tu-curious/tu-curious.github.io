{
 "cells": [
  {
   "cell_type": "markdown",
   "metadata": {},
   "source": [
    "## Heading\n",
    "\n",
    "I am trying out Jupyter to webpage conversion using jekyll."
   ]
  },
  {
   "cell_type": "code",
   "execution_count": null,
   "metadata": {},
   "outputs": [],
   "source": [
    "import keras as kr"
   ]
  },
  {
   "cell_type": "markdown",
   "metadata": {},
   "source": [
    "---\n",
    "title: \"Title\"\n",
    "author: \"Me\"\n",
    "header-includes:\n",
    "   - \\usepackage{bbm}\n",
    "output:\n",
    "    pdf_document\n",
    "---\n",
    "\n",
    "Let us try some latex. $56+x+c+\\pi$\n",
    "\n",
    "$$d+\\phi^2_3$$\n",
    "\n",
    "\\begin{equation}\n",
    "d+\\phi^2_3\n",
    "\\end{equation}\n",
    "\n",
    "~~strike~~. **bold**\n",
    "```python\n",
    "import stuff\n",
    "print(stuff)```\n",
    "\n",
    "\\begin{document}\n",
    "\\begin{center}\n",
    "\\begin{Large}\n",
    "\\textbf{A Self-driving car simulation using Q-Learning}\\\\\n",
    "\\end{Large}\n",
    "\\vspace{2mm}\n",
    "\\begin{small}\n",
    "\\textbf{Tushar Agarwal} (agarwal.270@osu.edu), \\textbf{Wenxiao Zhan} (zhan.137@osu.edu)\\\\\n",
    "\\end{small}\n",
    "\\end{center}\n",
    "\n",
    "\\section*{Introduction}\n",
    "\n",
    "Creating intelligent machines has long been a human endeavor with a rich past as well as present. Reinforcement learning is one major component of this endeavor. As the name suggests, reinforcement learning refers to a reward based learning system designed for a machine to teach it the correct behavior of acting in a specified environment. It has its roots in behaviorist psychology and can be simply thought of as the reward based training routine usually followed while teaching pet animals like dogs. Such a training requires a time-dependent modeling of the processes. \\\\\n",
    "\n",
    "\\subsection*{Components}\n",
    "Important components of an RL agent are the policy, the value function and the model.\n",
    "\\begin{itemize}\n",
    "\n",
    "\\item The model predicts how the environment will behave next. It has 2 main sub-components:-\\\\\n",
    "The transition probability: $\\mathcal{P}(s,a,s')=P(s_{t+1}=s'|s_{t}=s,a_{t}=a)$\\\\\n",
    "The Reward: $r(s,a)=E[r_{t+1}|s_{t}=s,a_{t}=a]$\n",
    "\n",
    "\\item The policy $\\pi$ defines the agents behavior and is a mapping from state $s_t$ to action $a_t$. It can be be deterministic or probabilistic.\\\\\n",
    "Deterministic policy: $a_t=\\pi(s_t)$\\\\\n",
    "Probabilistic policy: $\\pi(a|s)=P(a_t=a|s_t=s)$\n",
    "\n",
    "\\item Value function is a prediction of the future reward. It tries to measure the goodness or badness of states $V(s_t)$ or state-action pairs $q(s_t,a_t)$ to help make a decision between available set of actions $A$ at a given state.\\\\\n",
    "State value function for a given policy $\\pi$: $V_{\\pi}(s)=E_{\\pi}[G_t|s_t=s]$\\\\\n",
    "State-action value function for a given policy $\\pi$: $Q_{\\pi}(s,a)=E_{\\pi}[G_t|s_t=s,a_t=a]$\\\\\n",
    "\n",
    "where $G_t=r_t+\\sum_{i>t}\\gamma^{i-t}r_i$ is a measure of the cumulative reward.\n",
    "The term $\\gamma \\in [0,1)$ is a discount factor used to represent the fact that the present reward is more valuable than the future reward as the future is always uncertain. This is a very practical assumption and has real life manifestations like time value of money in finances. It also allows the cumulative reward to be finite in case of infinite time horizon, i.e. when the agent takes actions forever.\n",
    "\n",
    "\\end{itemize}\n"
   ]
  }
 ],
 "metadata": {
  "kernelspec": {
   "display_name": "Python 3",
   "language": "python",
   "name": "python3"
  },
  "language_info": {
   "codemirror_mode": {
    "name": "ipython",
    "version": 3
   },
   "file_extension": ".py",
   "mimetype": "text/x-python",
   "name": "python",
   "nbconvert_exporter": "python",
   "pygments_lexer": "ipython3",
   "version": "3.6.4"
  }
 },
 "nbformat": 4,
 "nbformat_minor": 2
}
